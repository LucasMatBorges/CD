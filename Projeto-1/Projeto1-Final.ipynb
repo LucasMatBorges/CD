{
 "cells": [
  {
   "cell_type": "markdown",
   "metadata": {},
   "source": [
    "#Projeto1\n",
    "\n",
    "**Felipe Goichman e Lucas Borges**\n",
    "\n",
    "Essa analise de dados da tabela da PNAD(Pesquisa Nacional de Análise de Domicilio) tem como objetivo observar a desigualdade salarial entre homens e mulheres  a partir de gráficos e tabelas."
   ]
  },
  {
   "cell_type": "code",
   "execution_count": 2,
   "metadata": {
    "collapsed": false
   },
   "outputs": [],
   "source": [
    "%matplotlib inline\n",
    "\n",
    "import os\n",
    "import pandas as pd\n",
    "import matplotlib.pyplot as plt\n"
   ]
  },
  {
   "cell_type": "code",
   "execution_count": 3,
   "metadata": {
    "collapsed": false
   },
   "outputs": [],
   "source": [
    "dados = pd.read_table(\"pes2013P1.csv.gz\", sep=\",\", compression=\"gzip\")"
   ]
  },
  {
   "cell_type": "code",
   "execution_count": 4,
   "metadata": {
    "collapsed": true
   },
   "outputs": [],
   "source": [
    "dados.rename(columns={\"V0402\":\"Ref\"}, inplace=True) # Condição na familia"
   ]
  },
  {
   "cell_type": "code",
   "execution_count": 5,
   "metadata": {
    "collapsed": true
   },
   "outputs": [],
   "source": [
    "dados.rename(columns={\"UF\":\"Estado\"}, inplace=True) # Estado"
   ]
  },
  {
   "cell_type": "code",
   "execution_count": 6,
   "metadata": {
    "collapsed": true
   },
   "outputs": [],
   "source": [
    "dados.rename(columns={\"V0302\":\"Gênero\"}, inplace=True) # Sexo"
   ]
  },
  {
   "cell_type": "code",
   "execution_count": 7,
   "metadata": {
    "collapsed": true
   },
   "outputs": [],
   "source": [
    "dados.rename(columns={\"V8005\":\"Idade\"}, inplace=True) # Anos de vida"
   ]
  },
  {
   "cell_type": "code",
   "execution_count": 8,
   "metadata": {
    "collapsed": true
   },
   "outputs": [],
   "source": [
    "dados.rename(columns={\"V0404\":\"Cor\"}, inplace=True) # Raça"
   ]
  },
  {
   "cell_type": "code",
   "execution_count": 9,
   "metadata": {
    "collapsed": true
   },
   "outputs": [],
   "source": [
    "dados.rename(columns={\"V9001\":\"Trabalho\"}, inplace=True) # Trabalhou na semana"
   ]
  },
  {
   "cell_type": "code",
   "execution_count": 10,
   "metadata": {
    "collapsed": true
   },
   "outputs": [],
   "source": [
    "dados.rename(columns={\"V9005\":\"Num_Trab\"}, inplace=True) # Quantos empregos"
   ]
  },
  {
   "cell_type": "code",
   "execution_count": 11,
   "metadata": {
    "collapsed": true
   },
   "outputs": [],
   "source": [
    "dados.rename(columns={\"V9029\":\"Niv_Ocup\"}, inplace=True) # Cargo no emprego"
   ]
  },
  {
   "cell_type": "code",
   "execution_count": 12,
   "metadata": {
    "collapsed": true
   },
   "outputs": [],
   "source": [
    "dados.rename(columns={\"V9032\":\"Setor\"}, inplace=True) # Público ou privado"
   ]
  },
  {
   "cell_type": "code",
   "execution_count": 13,
   "metadata": {
    "collapsed": true
   },
   "outputs": [],
   "source": [
    "dados.rename(columns={\"V9042\":\"Cart_Asn\"}, inplace=True) # Tem carteira assinada"
   ]
  },
  {
   "cell_type": "code",
   "execution_count": 14,
   "metadata": {
    "collapsed": true
   },
   "outputs": [],
   "source": [
    "dados.rename(columns={\"V9611\":\"Anos_Trab\"}, inplace=True) # Anos empregado"
   ]
  },
  {
   "cell_type": "code",
   "execution_count": 15,
   "metadata": {
    "collapsed": true
   },
   "outputs": [],
   "source": [
    "dados.rename(columns={\"V4803\":\"Anos_Est\"}, inplace=True) # Quanto tempo estudou"
   ]
  },
  {
   "cell_type": "code",
   "execution_count": 16,
   "metadata": {
    "collapsed": true
   },
   "outputs": [],
   "source": [
    " dados.rename(columns={\"V4707\":\"Horas_Trab\"}, inplace=True) # Tempo dedicado ao trabalho durante a semana"
   ]
  },
  {
   "cell_type": "code",
   "execution_count": 17,
   "metadata": {
    "collapsed": true
   },
   "outputs": [],
   "source": [
    "dados.rename(columns={\"V4745\":\"Niv_Inst\"}, inplace=True)  # Formação acadêmica"
   ]
  },
  {
   "cell_type": "code",
   "execution_count": 18,
   "metadata": {
    "collapsed": true
   },
   "outputs": [],
   "source": [
    "dados.rename(columns={\"V4718\":\"Salario\"}, inplace=True) # Ordenado"
   ]
  },
  {
   "cell_type": "markdown",
   "metadata": {},
   "source": [
    "**Grafico do percentual de homens e mulheres na PNAD**"
   ]
  },
  {
   "cell_type": "code",
   "execution_count": 19,
   "metadata": {
    "collapsed": false
   },
   "outputs": [
    {
     "data": {
      "text/plain": [
       "<matplotlib.axes._subplots.AxesSubplot at 0x77d6710>"
      ]
     },
     "execution_count": 19,
     "metadata": {},
     "output_type": "execute_result"
    },
    {
     "data": {
      "image/png": "[encoded data removed]",
      "text/plain": [
       "<matplotlib.figure.Figure at 0x77d6400>"
      ]
     },
     "metadata": {},
     "output_type": "display_data"
    }
   ],
   "source": [
    "dados.Gênero=dados.Gênero.astype('category')\n",
    "dados.Gênero.cat.categories = ('Homens', 'Mulheres')\n",
    "pd.DataFrame.plot(kind='pie', data=dados.Gênero.value_counts(), colors=('blue', 'red'), autopct=\"%0.2f\",legend=False)"
   ]
  },
  {
   "cell_type": "markdown",
   "metadata": {},
   "source": [
    "**Grafico do percentual de homens e mulheres com a PNAD filtrada**"
   ]
  },
  {
   "cell_type": "code",
   "execution_count": 20,
   "metadata": {
    "collapsed": false
   },
   "outputs": [
    {
     "name": "stderr",
     "output_type": "stream",
     "text": [
      "C:\\Users\\Lucas Borges\\AppData\\Local\\Continuum\\Anaconda3\\lib\\site-packages\\pandas\\core\\generic.py:2177: SettingWithCopyWarning: \n",
      "A value is trying to be set on a copy of a slice from a DataFrame.\n",
      "Try using .loc[row_indexer,col_indexer] = value instead\n",
      "\n",
      "See the the caveats in the documentation: http://pandas.pydata.org/pandas-docs/stable/indexing.html#indexing-view-versus-copy\n",
      "  self[name] = value\n"
     ]
    },
    {
     "data": {
      "text/plain": [
       "<matplotlib.axes._subplots.AxesSubplot at 0x79fa8d0>"
      ]
     },
     "execution_count": 20,
     "metadata": {},
     "output_type": "execute_result"
    },
    {
     "data": {
      "image/png": "[encoded data removed]",
      "text/plain": [
       "<matplotlib.figure.Figure at 0x7a05f28>"
      ]
     },
     "metadata": {},
     "output_type": "display_data"
    }
   ],
   "source": [
    "z=dados[(dados.Ref==1)&(dados.Num_Trab==1)&(dados.Cart_Asn==2)&(dados.Niv_Ocup==1)&(dados.Salario<=1000000)]\n",
    "z.Gênero=z.Gênero.astype('category')\n",
    "z.Gênero.cat.categories = ('Homens', 'Mulheres')\n",
    "pd.DataFrame.plot(kind='pie', data=z.Gênero.value_counts(), colors=('blue', 'red'), autopct=\"%0.2f\",legend=False)"
   ]
  },
  {
   "cell_type": "markdown",
   "metadata": {},
   "source": [
    "Pelos gráficos em pizza podemos perceber que o percentual de mulheres na população brasileira é maior que a dos homens. No entanto, quando se faz uma análise mais profunda (quantos estão empregados, com carteira assinada, é referência na familia), se tem uma intensa diminuição do percentual feminino."
   ]
  },
  {
   "cell_type": "code",
   "execution_count": 21,
   "metadata": {
    "collapsed": false
   },
   "outputs": [
    {
     "data": {
      "text/plain": [
       "[40, 50)    26.038581\n",
       "[30, 35)    17.339788\n",
       "[35, 40)    16.176577\n",
       "[50, 60)    14.511235\n",
       "[25, 30)    14.099415\n",
       "[20, 25)     7.293548\n",
       "dtype: float64"
      ]
     },
     "execution_count": 21,
     "metadata": {},
     "output_type": "execute_result"
    }
   ],
   "source": [
    "idade = pd.cut(z.Idade, (20, 25, 30, 35, 40, 50, 60), False)\n",
    "u=idade.value_counts(True)*100\n",
    "u"
   ]
  },
  {
   "cell_type": "markdown",
   "metadata": {},
   "source": [
    "**Gráfico de dispersão entre salário e anos de estudo com ajuste de reta (masculino e feminino**"
   ]
  },
  {
   "cell_type": "code",
   "execution_count": 22,
   "metadata": {
    "collapsed": false
   },
   "outputs": [
    {
     "data": {
      "text/plain": [
       "[<matplotlib.lines.Line2D at 0x7a0b518>]"
      ]
     },
     "execution_count": 22,
     "metadata": {},
     "output_type": "execute_result"
    },
    {
     "data": {
      "image/png": "[encoded data removed]",
      "text/plain": [
       "<matplotlib.figure.Figure at 0x7ae57f0>"
      ]
     },
     "metadata": {},
     "output_type": "display_data"
    }
   ],
   "source": [
    "z=dados[(dados.Ref==1)&(dados.Num_Trab==1)&(dados.Cart_Asn==2)&(dados.Niv_Ocup==1)&(dados.Salario<=1000000)&(dados.Gênero=='Mulheres')]\n",
    "pd.DataFrame.plot(kind='scatter', data=z, x='Anos_Est', y='Salario', color='red', title='Salário das mulheres por anos de estudos')\n",
    "b = z.Anos_Est.cov(z.Salario) / z.Anos_Est.var()\n",
    "a = z.Salario.mean() - b * z.Anos_Est.mean()\n",
    "plt.plot((z.Anos_Est.min(), z.Anos_Est.max()), (a + b * z.Anos_Est.min(), a + b * z.Anos_Est.max()), color='blue')"
   ]
  },
  {
   "cell_type": "code",
   "execution_count": 23,
   "metadata": {
    "collapsed": false
   },
   "outputs": [
    {
     "data": {
      "text/plain": [
       "[<matplotlib.lines.Line2D at 0x7e2f0b8>]"
      ]
     },
     "execution_count": 23,
     "metadata": {},
     "output_type": "execute_result"
    },
    {
     "data": {
      "image/png": "[encoded data removed]",
      "text/plain": [
       "<matplotlib.figure.Figure at 0x7e2f860>"
      ]
     },
     "metadata": {},
     "output_type": "display_data"
    }
   ],
   "source": [
    "z=dados[(dados.Ref==1)&(dados.Num_Trab==1)&(dados.Cart_Asn==2)&(dados.Niv_Ocup==1)&(dados.Salario<=1000000)&(dados.Gênero=='Homens')]\n",
    "pd.DataFrame.plot(kind='scatter', data=z, x='Anos_Est', y='Salario', color='green', title='Salário dos homens por anos de estudos')\n",
    "b = z.Anos_Est.cov(z.Salario) / z.Anos_Est.var()\n",
    "a = z.Salario.mean() - b * z.Anos_Est.mean()\n",
    "plt.plot((z.Anos_Est.min(), z.Anos_Est.max()), (a + b * z.Anos_Est.min(), a + b * z.Anos_Est.max()), color='blue')"
   ]
  },
  {
   "cell_type": "markdown",
   "metadata": {},
   "source": [
    "Outra desigualdade percebida é em relação ao salário entre os gêneros. Notamos que em ambos os casos há um aumento salarial proporcional aos anos de estudos, no entanto percebemos um aumento maior na maior para homens para a mesma quantidade de estudo."
   ]
  },
  {
   "cell_type": "code",
   "execution_count": 24,
   "metadata": {
    "collapsed": false
   },
   "outputs": [],
   "source": [
    "z=dados[(dados.Ref==1)&(dados.Num_Trab==1)&(dados.Cart_Asn==2)&(dados.Niv_Ocup==1)&(dados.Salario<=1000000)]\n",
    "sal = pd.cut(z.Salario, (0, 800, 2400, 4000, 6400, 9600, 16000, 25000, 50000, 100000), False)\n",
    "r=sal.value_counts(True)*100"
   ]
  },
  {
   "cell_type": "code",
   "execution_count": 25,
   "metadata": {
    "collapsed": false
   },
   "outputs": [],
   "source": [
    "data=pd.crosstab(sal, z.Gênero)"
   ]
  },
  {
   "cell_type": "markdown",
   "metadata": {},
   "source": [
    "**Grafico de rendimento salarial de homens e mulheres**"
   ]
  },
  {
   "cell_type": "code",
   "execution_count": 26,
   "metadata": {
    "collapsed": false
   },
   "outputs": [
    {
     "name": "stderr",
     "output_type": "stream",
     "text": [
      "C:\\Users\\Lucas Borges\\AppData\\Local\\Continuum\\Anaconda3\\lib\\site-packages\\pandas\\core\\generic.py:2177: SettingWithCopyWarning: \n",
      "A value is trying to be set on a copy of a slice from a DataFrame.\n",
      "Try using .loc[row_indexer,col_indexer] = value instead\n",
      "\n",
      "See the the caveats in the documentation: http://pandas.pydata.org/pandas-docs/stable/indexing.html#indexing-view-versus-copy\n",
      "  self[name] = value\n"
     ]
    },
    {
     "data": {
      "text/plain": [
       "<matplotlib.axes._subplots.AxesSubplot at 0x8ed57b8>"
      ]
     },
     "execution_count": 26,
     "metadata": {},
     "output_type": "execute_result"
    },
    {
     "data": {
      "image/png": "[encoded data removed]",
      "text/plain": [
       "<matplotlib.figure.Figure at 0x8ee3908>"
      ]
     },
     "metadata": {},
     "output_type": "display_data"
    }
   ],
   "source": [
    "a=dados[(dados.Ref==1)&(dados.Num_Trab==1)&(dados.Cart_Asn==2)&(dados.Niv_Ocup==1)&(dados.Niv_Inst==7)]\n",
    "sal2 = pd.cut(a.Salario, (0,1000,2000, 5000, 10000, 50000,100000), False)\n",
    "a.Gênero=a.Gênero.astype('category')\n",
    "a.Gênero.cat.categories = ('Homens', 'Mulheres')\n",
    "pd.DataFrame.plot(kind='bar', data=pd.crosstab(a.Gênero, sal2),color=('yellow', 'green', 'blue', 'red', 'black', 'orange','green'),figsize=(8,6), stacked=True, title='Faixa de salário da população filtrada', legend=True)"
   ]
  },
  {
   "cell_type": "markdown",
   "metadata": {},
   "source": [
    "Neste gráfico podemos perceber em relaçao ao tamanho da barra como é feito a distribuição e concentração salarial para cada um dos gêneros."
   ]
  },
  {
   "cell_type": "code",
   "execution_count": 27,
   "metadata": {
    "collapsed": false
   },
   "outputs": [
    {
     "name": "stderr",
     "output_type": "stream",
     "text": [
      "C:\\Users\\Lucas Borges\\AppData\\Local\\Continuum\\Anaconda3\\lib\\site-packages\\pandas\\core\\generic.py:2177: SettingWithCopyWarning: \n",
      "A value is trying to be set on a copy of a slice from a DataFrame.\n",
      "Try using .loc[row_indexer,col_indexer] = value instead\n",
      "\n",
      "See the the caveats in the documentation: http://pandas.pydata.org/pandas-docs/stable/indexing.html#indexing-view-versus-copy\n",
      "  self[name] = value\n"
     ]
    }
   ],
   "source": [
    "q=dados[(dados.Num_Trab==1)&(dados.Cart_Asn==2)&(dados.Niv_Ocup==1)]\n",
    "q.Gênero=q.Gênero.astype('category')\n",
    "q.Gênero.cat.categories = ('Homens', 'Mulheres')\n",
    "o=q.Gênero.value_counts(True)*100"
   ]
  },
  {
   "cell_type": "code",
   "execution_count": 28,
   "metadata": {
    "collapsed": false
   },
   "outputs": [],
   "source": [
    "v=q.Ref.value_counts(True)*100"
   ]
  },
  {
   "cell_type": "code",
   "execution_count": 29,
   "metadata": {
    "collapsed": false,
    "scrolled": false
   },
   "outputs": [],
   "source": [
    "ct = pd.crosstab(q.Gênero, q.Ref)"
   ]
  },
  {
   "cell_type": "markdown",
   "metadata": {},
   "source": [
    "**Gráfico que relaciona o gênero e a pessoa referência da família.**"
   ]
  },
  {
   "cell_type": "code",
   "execution_count": 30,
   "metadata": {
    "collapsed": false
   },
   "outputs": [
    {
     "data": {
      "text/plain": [
       "<matplotlib.axes._subplots.AxesSubplot at 0x7b4f4e0>"
      ]
     },
     "execution_count": 30,
     "metadata": {},
     "output_type": "execute_result"
    },
    {
     "data": {
      "image/png": "[encoded data removed]",
      "text/plain": [
       "<matplotlib.figure.Figure at 0x8ebc518>"
      ]
     },
     "metadata": {},
     "output_type": "display_data"
    }
   ],
   "source": [
    "pd.DataFrame.plot(kind='bar', data=pd.crosstab(q.Gênero, q.Ref), color=('yellow', 'purple', 'blue', 'red', 'green', 'orange'), stacked=True)"
   ]
  },
  {
   "cell_type": "markdown",
   "metadata": {},
   "source": [
    "Agora com outro tipo de gráfico fica mais claro perceber que a maior parte do referêncial que a mulher assume na residência. Usando a legenda (1=Pessoa de Referência; 2=Cônjuge; 3=Filho; 4=Outro partente; 5=Agregado; 6=Pensionista), percebemos que a maioria das mulheres assumem papel de cônjuge, enquanto os homens assumem papel da pessoa de referência)."
   ]
  },
  {
   "cell_type": "markdown",
   "metadata": {},
   "source": [
    "**Grafico da distribuição salarial porcentual dos homens**"
   ]
  },
  {
   "cell_type": "code",
   "execution_count": 31,
   "metadata": {
    "collapsed": false
   },
   "outputs": [
    {
     "data": {
      "text/plain": [
       "<matplotlib.axes._subplots.AxesSubplot at 0x8521320>"
      ]
     },
     "execution_count": 31,
     "metadata": {},
     "output_type": "execute_result"
    },
    {
     "data": {
      "image/png": "[encoded data removed]",
      "text/plain": [
       "<matplotlib.figure.Figure at 0x85504a8>"
      ]
     },
     "metadata": {},
     "output_type": "display_data"
    }
   ],
   "source": [
    "z=dados[(dados.Ref==1)&(dados.Num_Trab==1)&(dados.Cart_Asn==2)&(dados.Niv_Ocup==1)]\n",
    "faixas = (0,1000,2000,3000,4000,5000,6000,7000,8000,9000,10000)\n",
    "pd.DataFrame.plot(kind='hist', data=z[(z.Gênero=='Homens')].Salario,bins=(0,1000,2000,3000,4000,5000,6000,7000,8000,9000,10000),normed=True,legend=False,title=\"Distribuição salarial dos homens\")"
   ]
  },
  {
   "cell_type": "markdown",
   "metadata": {},
   "source": [
    "**Grafico da distribuição salarial porcentual das mulheres**"
   ]
  },
  {
   "cell_type": "code",
   "execution_count": 32,
   "metadata": {
    "collapsed": false
   },
   "outputs": [
    {
     "data": {
      "text/plain": [
       "<matplotlib.axes._subplots.AxesSubplot at 0x84ef6a0>"
      ]
     },
     "execution_count": 32,
     "metadata": {},
     "output_type": "execute_result"
    },
    {
     "data": {
      "image/png": "[encoded data removed]",
      "text/plain": [
       "<matplotlib.figure.Figure at 0x854a630>"
      ]
     },
     "metadata": {},
     "output_type": "display_data"
    }
   ],
   "source": [
    "pd.DataFrame.plot(kind='hist', data=z[(z.Gênero=='Mulheres')].Salario,bins=(0,1000,2000,3000,4000,5000,6000,7000,8000,9000,10000),normed=True,legend=False,title=\"Distribuição salarial das mulheres\",color=('salmon'))\n"
   ]
  },
  {
   "cell_type": "markdown",
   "metadata": {},
   "source": [
    "Considerando o eixo Y como o percentual (multiplicado por 1000), a maior parte dos homens recebem salário maior do que a maior parte das mulheres."
   ]
  },
  {
   "cell_type": "markdown",
   "metadata": {},
   "source": [
    "**Box-Plot da distribuição salarial dos homens e mulheres**"
   ]
  },
  {
   "cell_type": "code",
   "execution_count": 33,
   "metadata": {
    "collapsed": false
   },
   "outputs": [
    {
     "data": {
      "text/plain": [
       "<matplotlib.axes._subplots.AxesSubplot at 0x8550c50>"
      ]
     },
     "execution_count": 33,
     "metadata": {},
     "output_type": "execute_result"
    },
    {
     "data": {
      "image/png": "[encoded data removed]",
      "text/plain": [
       "<matplotlib.figure.Figure at 0x8f37400>"
      ]
     },
     "metadata": {},
     "output_type": "display_data"
    }
   ],
   "source": [
    "s=dados[(dados.Ref==1)&(dados.Num_Trab==1)&(dados.Cart_Asn==2)&(dados.Niv_Ocup==1)&(dados.Salario<=1000000)]\n",
    "pd.DataFrame.plot(kind='box', data=s[(s.Gênero=='Homens')].Salario, title='Homens')"
   ]
  },
  {
   "cell_type": "code",
   "execution_count": 34,
   "metadata": {
    "collapsed": false
   },
   "outputs": [
    {
     "data": {
      "text/plain": [
       "<matplotlib.axes._subplots.AxesSubplot at 0x8e02828>"
      ]
     },
     "execution_count": 34,
     "metadata": {},
     "output_type": "execute_result"
    },
    {
     "data": {
      "image/png": "[encoded data removed]",
      "text/plain": [
       "<matplotlib.figure.Figure at 0x8bd2a20>"
      ]
     },
     "metadata": {},
     "output_type": "display_data"
    }
   ],
   "source": [
    "pd.DataFrame.plot(kind='box', data=s[(s.Gênero=='Mulheres')].Salario, title='Mulheres')"
   ]
  },
  {
   "cell_type": "markdown",
   "metadata": {
    "collapsed": true
   },
   "source": [
    "A partir da comparação dos boxplots masculinos e femininos podemos observar que os outliers masculinos estão muitos mais dispersos e atingem valores mais altos na distruibuição salarial"
   ]
  },
  {
   "cell_type": "markdown",
   "metadata": {
    "collapsed": true
   },
   "source": [
    "**Conclusão**\n",
    "\n",
    "Como pudemos ver ao longo dessa analise de dados, é muito claro que,infelizmente, há ainda uma grande desigualdade salarial entre homens e mulheres. Algumas mulheres ainda que possuam o mesmo nivel de escolaridade, não possuem o mesmo salario dos homens. Ainda nessa analise pudemos observar que os homens são preponderantemente a pessoa de refereincia, enquanto as mulheres são predominantemente conjugês. Desta forma, devemos tomar novas medidas para tentar equilibrar os salarios entre homens e mulheres, para que no futuro podermos nos tornar uma sociedade homogenea. "
   ]
  },
  {
   "cell_type": "code",
   "execution_count": null,
   "metadata": {
    "collapsed": true
   },
   "outputs": [],
   "source": []
  }
 ],
 "metadata": {
  "kernelspec": {
   "display_name": "Python [Root]",
   "language": "python",
   "name": "Python [Root]"
  },
  "language_info": {
   "codemirror_mode": {
    "name": "ipython",
    "version": 3
   },
   "file_extension": ".py",
   "mimetype": "text/x-python",
   "name": "python",
   "nbconvert_exporter": "python",
   "pygments_lexer": "ipython3",
   "version": "3.5.2"
  }
 },
 "nbformat": 4,
 "nbformat_minor": 0
}
